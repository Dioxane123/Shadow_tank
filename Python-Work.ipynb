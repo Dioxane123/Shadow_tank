{
 "cells": [
  {
   "cell_type": "markdown",
   "id": "51b87047",
   "metadata": {},
   "source": [
    "##                                 有关幻影坦克技术的讲解\n",
    "啥是幻影坦克? 幻影坦克就是, 一张黑白图片, 在黑色背景下和白色背景下能够显示出不同的图像.\n",
    "\n",
    "它的原理就是控制像素的颜色和Alpha通道(不透明度), 来使显示的图像在不同背景下显示不同的颜色.\n",
    "\n",
    "最基本的, 就是, 一张半透明的黑色薄膜, 如果在黑色的纸上, 你什么也看不出来, 但如果在白色纸上, 你可以看见, 它是灰色."
   ]
  },
  {
   "cell_type": "markdown",
   "id": "6269f2e4",
   "metadata": {},
   "source": [
    "先同意讲Alpha值和像素的亮度统一至 0 - 1"
   ]
  },
  {
   "cell_type": "markdown",
   "id": "753d4924",
   "metadata": {},
   "source": [
    "###                                         基本原理\n",
    "设: 这个图像的背景亮度为 bc, 这个像素的亮度为 pc, 不透明度为 pa, 则最终显示的颜色 oc 就是:\n",
    "                           oc = pc * pa + bc * (1 - pa)"
   ]
  },
  {
   "cell_type": "markdown",
   "id": "2d8305eb",
   "metadata": {},
   "source": [
    "理解起来也简单, 还拿刚刚的例子来讲, 例如一个纯黑的半透明薄膜, 那他肯定:\n",
    "\n",
    "1.只有一半的黑色能显示出来, 即： pc * pa\n",
    "\n",
    "2.而背景色, 也有一半的颜色能够透过来. 即:   bc * (1 - pa)\n",
    "\n",
    "3.总的颜色加起来, 也就是： pc * pa + bc * (1 - pa)"
   ]
  },
  {
   "cell_type": "markdown",
   "id": "efbd37cf",
   "metadata": {},
   "source": [
    "###                                         幻影坦克\n",
    "当一个像素为白色背景时, 能够显示出一个特定的颜色 x, 当黑色背景时, 显示出 y, 故可得出一个公式：\n",
    "\n",
    "  设颜色 x 的亮度为 xc, 颜色 y 的亮度为 yc, 这个像素的亮度为 zc, 不透明度为 za, 则满足:\n",
    " \n",
    "$$\n",
    "\\begin{cases}\n",
    "& \\text{xc = za × zc + (1 − za)}\\\\\n",
    "& \\text{yc = za × zc}\n",
    "\\end{cases}\n",
    "$$"
   ]
  },
  {
   "cell_type": "markdown",
   "id": "5deb221e",
   "metadata": {},
   "source": [
    "稍微处理一下，则可以得到以下的公式：\n",
    "\n",
    "$$\n",
    "\\begin{cases}\n",
    "& \\text{xc = yc + 1 × ( 1 − za )}\\\\\n",
    "& \\text{yc = xc − 1 × ( 1 − za)}\\\\\n",
    "& \\text{za = − [( xc − yc ) ÷ 1 ] + 1}\n",
    "\\end{cases}\n",
    "$$\n",
    "$$↓$$\n",
    "$$\n",
    "\\begin{cases}\n",
    "& \\text{xc = yc + 1 − za}\\\\\n",
    "& \\text{yc = xc + za − 1}\\\\\n",
    "& \\text{za = yc − xc + 1}\n",
    "\\end{cases}\n",
    "$$\n",
    " \n",
    "\n"
   ]
  },
  {
   "cell_type": "markdown",
   "id": "8e1da571",
   "metadata": {},
   "source": [
    "由于 xc, yc, zc, za 都是小于等于1, 大于等于0的值, 所以:\n",
    "$$\n",
    "\\begin{cases}\n",
    "1 \\geq xc \\geq 0 \\\\\n",
    "1 \\geq yc \\geq 0 \\\\\n",
    "1 \\geq za \\geq 0\n",
    "\\end{cases}\n",
    "$$\n",
    "$$↓$$\n",
    "$$\n",
    "\\begin{cases}\n",
    "1 \\geq yc + 1 - za \\geq 0 \\\\\n",
    "1 \\geq xc + za - 1 \\geq 0 \\\\\n",
    "1 \\geq yc - xc + 1 \\geq 0\n",
    "\\end{cases}\n",
    "$$\n",
    "$$↓$$\n",
    "$$\n",
    "\\begin{cases}\n",
    "0 \\geq yc - za \\geq -1 \\\\\n",
    "2 \\geq yc + za \\geq 1 \\\\\n",
    "0 \\geq yc - xc \\geq -1\n",
    "\\end{cases}\n",
    "$$\n",
    "$$↓$$\n",
    "$$\n",
    "\\begin{cases}\n",
    " za \\geq yc \\\\\n",
    " xc + za \\geq 1 \\\\\n",
    " xc \\geq yc\n",
    "\\end{cases}\n",
    "$$\n",
    "最终得到的不等式, 则是我们的 x 和 y 需要满足的条件.\n",
    "\n",
    "只有 x 和 y 像素满足这些条件, za 和 zc 才有值"
   ]
  },
  {
   "cell_type": "markdown",
   "id": "5620191f",
   "metadata": {},
   "source": [
    "所以我们最终的算式为：\n",
    "\n",
    "$$\n",
    "\\begin{cases}\n",
    "zc = \\frac{yc}{za} \\\\\n",
    "za = yc - xc + 1\n",
    "\\end{cases}\n",
    "$$"
   ]
  },
  {
   "cell_type": "markdown",
   "id": "18c091a6",
   "metadata": {},
   "source": [
    "由于ARGB的通道是0 - 255 ，所以我们需要将以进行转化：\n",
    "\n",
    "$$\n",
    "\\begin{cases}\n",
    "zc = \\frac{yc}{\\frac{za}{255}} = \\frac{yc \\times 255}{za} \\\\\n",
    "za = yc - xc + 255\n",
    "\\end{cases}\n",
    "$$"
   ]
  },
  {
   "cell_type": "markdown",
   "id": "919ce31e",
   "metadata": {},
   "source": [
    "而经过刚才的推导，我们真正需要处理的只有：\n",
    "\n",
    "$$ xc ≥ yc $$"
   ]
  },
  {
   "cell_type": "markdown",
   "id": "5c60ee3e",
   "metadata": {},
   "source": [
    "## 代码实现\n",
    "\n",
    "我们采用opencv库来对图像进行处理\n",
    "\n",
    "首先我们可以定义一个函数对 xc ，yc 进行处理，使 xc ≥ yc ："
   ]
  },
  {
   "cell_type": "markdown",
   "id": "f7cef45f",
   "metadata": {},
   "source": [
    "### 定义函数使 xc ≥ yc "
   ]
  },
  {
   "cell_type": "code",
   "execution_count": null,
   "id": "fc2371b3",
   "metadata": {},
   "outputs": [],
   "source": [
    "import numpy as np"
   ]
  },
  {
   "cell_type": "code",
   "execution_count": null,
   "id": "46712b11",
   "metadata": {},
   "outputs": [],
   "source": [
    "def xc_max_than_yc(xc, yc, color_ratio=0.5):\n",
    "    \n",
    "    threshold = 255 * color_ratio\n",
    "    xc = (xc / 255) * (255 - threshold) + threshold\n",
    "    yc = (yc / 255) * threshold\n",
    "    return xc, yc "
   ]
  },
  {
   "cell_type": "markdown",
   "id": "6dfe13b9",
   "metadata": {},
   "source": [
    "现在我们可以随机生成一个数组来测试一下"
   ]
  },
  {
   "cell_type": "code",
   "execution_count": null,
   "id": "9d030b57",
   "metadata": {},
   "outputs": [],
   "source": [
    "xc = np.random.randint(255,size = (5,5))\n",
    "yc = np.random.randint(255,size = (5,5))\n",
    "xc_,yc_ = xc_max_than_yc(xc,yc)\n",
    "xc,yc,xc_,yc_"
   ]
  },
  {
   "cell_type": "markdown",
   "id": "408d40c0",
   "metadata": {},
   "source": [
    "上述函数对xc,yc进行处理，color_ratio参数用于调整xc，yc的颜色占比\n",
    "\n",
    "其中xc，yc输入的都是图像的像素矩阵"
   ]
  },
  {
   "cell_type": "markdown",
   "id": "b9652fc1",
   "metadata": {},
   "source": [
    "### 效果图生成函数"
   ]
  },
  {
   "cell_type": "code",
   "execution_count": null,
   "id": "6563bc48",
   "metadata": {},
   "outputs": [],
   "source": [
    "import cv2\n",
    "\n",
    "def create_tank(white, black):\n",
    "    # white表示白色背景时显示的图片\n",
    "    # black表示黑色背景时显示的图片\n",
    "    # 接下来对 透明度（za） 和 亮度（zc）进行处理\n",
    "    za = black - white + 255\n",
    "    zc = black.copy()\n",
    "    idx = black != 0\n",
    "    zc[idx] = black[idx] * 255 / za[idx]\n",
    "    img = cv2.merge((zc, zc, zc, za))\n",
    "    return img\n"
   ]
  },
  {
   "cell_type": "markdown",
   "id": "a4588cad",
   "metadata": {},
   "source": [
    "这段代码定义了一个名为create_tank的函数，该函数接受两个参数white和black。函数的作用是创建一个坦克的图片。\n",
    "\n",
    "在函数内部，首先计算透明度（za）和亮度（zc）的处理。\n",
    "\n",
    "透明度的计算公式为：za = black - white + 255，这个公式通过将黑色背景的像素值减去白色背景的像素值，再加上255来计算透明度。\n",
    "\n",
    "亮度的计算则是对黑色背景进行复制：zc = black.copy()。\n",
    "\n",
    "接下来，通过使用布尔索引，找出黑色背景中不为0的像素，并将亮度进行调整。\n",
    "\n",
    "具体而言，对于非零像素的位置，将其亮度乘以255再除以对应的透明度，以调整亮度值。\n",
    "\n",
    "最后，使用OpenCV的cv2.merge()函数将调整后的亮度（zc）和透明度（za）合并成为一个4通道的图片。\n",
    "\n",
    "返回的img即为创建的坦克图片。"
   ]
  },
  {
   "cell_type": "markdown",
   "id": "0854aa69",
   "metadata": {},
   "source": [
    "### 接下来则是以具体的图片举例\n"
   ]
  },
  {
   "cell_type": "code",
   "execution_count": null,
   "id": "e24a433e",
   "metadata": {},
   "outputs": [],
   "source": [
    "import matplotlib.pyplot as plt\n",
    "%matplotlib inline\n",
    "\n",
    "img_false = cv2.imread('img1.jpg',0)\n",
    "img_true = cv2.imread('img2.jpg',0)\n",
    "\n",
    "x,y = img_true.shape\n",
    "img_false = cv2.resize(img_false, (y, x))\n",
    "\n",
    "xc, yc = xc_max_than_yc(img_false, img_true)\n",
    "Img_output = create_tank(xc, yc)\n",
    "\n",
    "cv2.imwrite(\"Img_output.png\", Img_output)"
   ]
  },
  {
   "cell_type": "code",
   "execution_count": null,
   "id": "88cfcbec",
   "metadata": {},
   "outputs": [],
   "source": [
    "img = plt.imread('Img_output.png')\n",
    "# 黑色背景\n",
    "plt.figure(facecolor='black')\n",
    "plt.imshow(img, cmap='gray')\n",
    "plt.axis('off')\n",
    "plt.title(\"Black Background\",color='white')\n",
    "plt.show()\n",
    "# 白色背景\n",
    "plt.figure(facecolor='white')\n",
    "plt.imshow(img, cmap='gray')\n",
    "plt.axis('off')\n",
    "plt.title(\"White Background\")\n",
    "plt.show()"
   ]
  },
  {
   "cell_type": "markdown",
   "id": "14ce650b",
   "metadata": {},
   "source": [
    "## 前端GUI开发\n",
    "GUI开发部分相对简单，主要是先构思需要什么元件并打算好每个元件的位置。优秀的GUI还需要考虑色彩搭配等等，但我们的界面只是勉强能用，谈不上多优美，主要体验一下编写前端代码的过程。\n"
   ]
  },
  {
   "cell_type": "markdown",
   "id": "0355abfa",
   "metadata": {},
   "source": [
    "### 利用工具进行页面布局\n",
    "一个在线的[小工具](https://pytk.net/tkinter-helper/)，可以进行可视化的tkinter界面排版。在小工具内可以把几个元件安排到合适的位置。最终利用该工具排版得到一个比较满意的结果，通过工具提供的各个元件的尺寸的坐标生成GUI。"
   ]
  },
  {
   "cell_type": "code",
   "execution_count": null,
   "id": "f0621a2d",
   "metadata": {},
   "outputs": [],
   "source": [
    "\n",
    "import tkinter as tk\n",
    "win = tk.Tk()\n",
    "win.title(\"幻影坦克生成器\")\n",
    "win.geometry('600x500')\n",
    "\n",
    "# Labels\n",
    "title = tk.Label(master=win, text=\"幻影坦克生成器\", anchor='center', font=('楷体',16))\n",
    "title.place(x=220, y=0, width=165, height=40)\n",
    "status = tk.Label(master=win,text=\"status\",anchor='center', font=(\"楷体\",16))\n",
    "status.place(x=100,y=390,width=400,height=30)\n",
    "Img1_L = tk.Label(master=win, text=\"图片1\",anchor='center')\n",
    "Img1_L.place(x=0, y=60, width=120, height=120)\n",
    "Img2_L = tk.Label(master=win, text=\"图片2\",anchor=\"center\")\n",
    "Img2_L.place(x=0,y=260,width=120,height=120)\n",
    "Img_output_L =tk.Label(master=win, text=\"输出图片\",anchor=\"center\")\n",
    "Img_output_L.place(x=470, y=160, width=120, height=120)\n",
    "Address_1 = tk.Label(master=win,text=\"图片1地址\",anchor='center', font=(\"楷体\",12))\n",
    "Address_1.place(x=190, y=90, width=80, height=30)\n",
    "Address_2 = tk.Label(master=win, text=\"图片2地址\",anchor='center', font=(\"楷体\",12))\n",
    "Address_2.place(x=190, y=290, width=80, height=30)\n",
    "\n",
    "# Entrys\n",
    "Txt1 = tk.Entry(master=win)\n",
    "Txt1.place(x=140, y=60, width=180, height=30)\n",
    "Txt2 = tk.Entry(master=win)\n",
    "Txt2.place(x=140, y=260, width=180, height=30)\n",
    "\n",
    "# Buttons\n",
    "Cmd1 = tk.Button(master=win, text=\"导入上层掩体图\", font=(\"楷体\",10), command=lambda :selectfile(Txt1, Img1_L))\n",
    "Cmd1.place(x=180, y=130, width=100, height=40)\n",
    "Cmd2 = tk.Button(master=win, text=\"导入下层真实图\", font=(\"楷体\",10), command=lambda : selectfile(Txt2, Img2_L))\n",
    "Cmd2.place(x=180, y=330, width=100, height=40)\n",
    "Cmd3 = tk.Button(master=win, text=\"生成并保存图片\", font=(\"楷体\",10), command=lambda : generate())\n",
    "Cmd3.place(x=340, y=190, width=120, height=40)\n",
    "\n",
    "win.mainloop()"
   ]
  },
  {
   "cell_type": "markdown",
   "id": "4e502599",
   "metadata": {},
   "source": [
    "### 函数功能实现\n",
    "我们希望在这个GUI中，点击“导入上层掩体图/下层真实图”之后，可以唤起一个文件浏览框，用户可以选择文件夹中的图片文件，随后返回文件地址到Entrys并在“图片1/2”中展示缩略图。点击“生成并保存图片”后，可以生成“幻影坦克”并在“输出图片”中展示缩略图，同时在当前目录保存图片。\n",
    "\n",
    "功能很多，一一实现。"
   ]
  },
  {
   "cell_type": "markdown",
   "id": "45dc702a",
   "metadata": {},
   "source": [
    "#### Selectfile(txt: tk.Entry, lab: tk.Label)\n",
    "tk对于文件操作专门有一个类filedialog，其各种方法专门用来服务文件操作。我们需要寻找一个文件并获取文件地址，这用到了filedialog.askopenfilename()方法。该方法返回值为字符串形式的文件地址。随后将地址值赋给对应Entry。随后利用该地址用OpenCV读取对应图片，resize成合适的大小后保存在一个临时文件夹tmp中。由于这里需要临时文件夹tmp，可以在整个程序运行前先用OS库创建临时文件夹tmp。因为希望程序一次启动可以生成任意张“幻影坦克”，应该要将status的内容清空。"
   ]
  },
  {
   "cell_type": "code",
   "execution_count": null,
   "id": "75056c6b",
   "metadata": {},
   "outputs": [],
   "source": [
    "import os\n",
    "try:\n",
    "    os.mkdir(\"tmp\")\n",
    "    print(\"Successfully Created direction 'tmp'!\")\n",
    "except FileExistsError:\n",
    "    print(\"Successfully Created! diretion 'tmp'!\")\n"
   ]
  },
  {
   "cell_type": "code",
   "execution_count": null,
   "id": "fa806b07",
   "metadata": {},
   "outputs": [],
   "source": [
    "import tkinter as tk\n",
    "from tkinter import filedialog\n",
    "import cv2\n",
    "\n",
    "def selectfile(txt: tk.Entry, lab: tk.Label):\n",
    "    status.configure(text=\"\")     #清空status，便于多次生成图片\n",
    "    filepath = filedialog.askopenfilename()   #请求寻找一个图片文件,返回路径字符串\n",
    "    txt.delete(0, 'end')\n",
    "    txt.insert(0,filepath)   #将先前选择的路径填入对应地址栏\n",
    "    \n",
    "    tmp = cv2.imread(filepath, 0)    #将选中图片resize成(120,120)来展示缩略图\n",
    "    tmp = cv2.resize(tmp, (120, 120))\n",
    "    cv2.imwrite(\"tmp/tmp.png\", tmp)\n",
    "    panel = tk.Label(master=win)    #新建一个Label类panel引用photo，防止函数执行结束时释放内存导致photo丢失。\n",
    "    panel.photo = tk.PhotoImage(file=\"tmp/tmp.png\")\n",
    "    lab.configure(image=panel.photo)\n",
    " \n",
    "win = tk.Tk()\n",
    "win.title(\"幻影坦克生成器\")\n",
    "win.geometry('600x500')\n",
    "\n",
    "Txt1 = tk.Entry(master=win)\n",
    "Txt1.place(x=140, y=60, width=180, height=30)\n",
    "\n",
    "status = tk.Label(master=win,text=\"status\",anchor='center', font=(\"楷体\",16))\n",
    "status.place(x=100,y=390,width=400,height=30)\n",
    "Img1_L = tk.Label(master=win, text=\"图片1\",anchor='center')\n",
    "Img1_L.place(x=0, y=60, width=120, height=120)\n",
    "\n",
    "Cmd1 = tk.Button(master=win, text=\"导入上层掩体图\", font=(\"楷体\",10), command=lambda :selectfile(Txt1, Img1_L))\n",
    "Cmd1.place(x=180, y=130, width=100, height=40)\n",
    "\n",
    "win.mainloop()"
   ]
  },
  {
   "cell_type": "markdown",
   "id": "ad0052cd",
   "metadata": {},
   "source": [
    "#### Generate()\n",
    "我们希望在执行这个函数之后，OpenCV读取Entrys中指向的两张图片，并通过先前讲的一系列操作生成“幻影坦克”并同时生成“幻影坦克”的缩略图展示在“输出图片”中，同时更新status的显示文字。"
   ]
  },
  {
   "cell_type": "code",
   "execution_count": null,
   "id": "4490f8a4",
   "metadata": {},
   "outputs": [],
   "source": [
    "def generate():\n",
    "    Img_1 = Txt1.get()\n",
    "    Img_2 = Txt2.get()\n",
    "    img_false = cv2.imread(Img_1, 0)     #掩体\n",
    "    img_true = cv2.imread(Img_2, 0)     #底图\n",
    "    x, y = img_true.shape\n",
    "    img_false = cv2.resize(img_false, (y, x))\n",
    "    xc, yc = xc_max_than_yc(img_false, img_true)\n",
    "    Img_output = create_tank(xc, yc)\n",
    "    \n",
    "    tmp = cv2.resize(Img_output, (120,120))   #生成成品缩略图\n",
    "    cv2.imwrite(\"tmp/Img_output.png\", tmp)\n",
    "\n",
    "    cv2.imwrite(\"Img_output.png\", Img_output) \n",
    "\n",
    "    panel_ = tk.Label(master=win)\n",
    "    panel_.photo = tk.PhotoImage(master=win, file=\"tmp/Img_output.png\")\n",
    "    Img_output_L.configure(image=panel_.photo)\n",
    "    status.configure(text=\"成功生成！图片已保存至当前目录。\")"
   ]
  },
  {
   "cell_type": "markdown",
   "id": "5bb85e0a",
   "metadata": {},
   "source": [
    "### GUI主题更改美化\n",
    "利用ttkbootstrap库调用预制的几个主题粗粗美化一下GUI"
   ]
  },
  {
   "cell_type": "code",
   "execution_count": null,
   "id": "11865eb6",
   "metadata": {},
   "outputs": [],
   "source": [
    "import ttkbootstrap\n",
    "#style = ttkbootstrap.Style(theme=\"darkly\")    #利用ttkbootstrap快捷部署gui主题\n",
    "#win = style.master"
   ]
  },
  {
   "cell_type": "markdown",
   "id": "928de004",
   "metadata": {},
   "source": [
    "## 最后展示完整代码"
   ]
  },
  {
   "cell_type": "code",
   "execution_count": null,
   "id": "43474a12",
   "metadata": {},
   "outputs": [],
   "source": [
    "import tkinter as tk\n",
    "from tkinter import filedialog\n",
    "import ttkbootstrap\n",
    "import cv2\n",
    "import os\n",
    "\n",
    "try:\n",
    "    os.mkdir(\"tmp\")\n",
    "    print(\"Successfully Created Direction 'tmp'!\")\n",
    "except FileExistsError:\n",
    "    print(\"Successfully Created Direction 'tmp'!\")\n",
    "\n",
    "style = ttkbootstrap.Style(theme=\"darkly\")    #利用ttkbootstrap快捷部署gui主题\n",
    "win = style.master\n",
    "\n",
    "def xc_max_than_yc(xc, yc, color_ratio=0.5):\n",
    "    threshold = 255 * color_ratio\n",
    "    xc = (xc / 255) * (255 - threshold) + threshold\n",
    "    yc = (yc / 255) * threshold\n",
    "    return xc, yc \n",
    "\n",
    "def create_tank(white, black):\n",
    "    za = black - white + 255\n",
    "    zc = black.copy()\n",
    "    idx = black != 0\n",
    "    zc[idx] = black[idx] * 255 / za[idx]\n",
    "    img = cv2.merge((zc, zc, zc, za))\n",
    "    return img\n",
    "\n",
    "def selectfile(txt: tk.Entry, lab: tk.Label):\n",
    "    status.configure(text=\"\")     #清空status，便于多次生成图片\n",
    "    filepath = filedialog.askopenfilename()   #请求寻找一个图片文件,返回路径字符串\n",
    "    txt.delete(0, 'end')\n",
    "    txt.insert(0,filepath)   #将先前选择的路径填入对应地址栏\n",
    "    \n",
    "    tmp = cv2.imread(filepath, 0)    #将选中图片resize成(120,120)来展示缩略图\n",
    "    tmp = cv2.resize(tmp, (120, 120))\n",
    "    cv2.imwrite(\"tmp/tmp.png\", tmp)\n",
    "    panel = tk.Label(master=win)    #新建一个Label类panel引用photo，防止函数执行结束时释放内存导致photo丢失。\n",
    "    panel.photo = tk.PhotoImage(file=\"tmp/tmp.png\")\n",
    "    lab.configure(image=panel.photo)\n",
    "\n",
    "def generate():\n",
    "    Img_1 = Txt1.get()\n",
    "    Img_2 = Txt2.get()\n",
    "    img_false = cv2.imread(Img_1, 0)     #掩体\n",
    "    img_true = cv2.imread(Img_2, 0)     #底图\n",
    "    x, y = img_true.shape\n",
    "    img_false = cv2.resize(img_false, (y, x))\n",
    "    xc, yc = xc_max_than_yc(img_false, img_true)\n",
    "    Img_output = create_tank(xc, yc)\n",
    "    \n",
    "    tmp = cv2.resize(Img_output, (120,120))   #生成成品缩略图\n",
    "    cv2.imwrite(\"tmp/Img_output.png\", tmp)\n",
    "\n",
    "    cv2.imwrite(\"Img_output.png\", Img_output) \n",
    "\n",
    "    panel_ = tk.Label(master=win)\n",
    "    panel_.photo = tk.PhotoImage(master=win, file=\"tmp/Img_output.png\")\n",
    "    Img_output_L.configure(image=panel_.photo)\n",
    "    status.configure(text=\"成功生成！图片已保存至当前目录。\")\n",
    "\n",
    "# win = tk.Tk()\n",
    "win.title(\"幻影坦克生成器\")\n",
    "win.geometry('600x500')\n",
    "\n",
    "# Labels\n",
    "title = tk.Label(master=win, text=\"幻影坦克生成器\", anchor='center', font=('楷体',16))\n",
    "title.place(x=220, y=0, width=165, height=40)\n",
    "status = tk.Label(master=win,text=\"\",anchor='center', font=(\"楷体\",16))\n",
    "status.place(x=100,y=390,width=400,height=30)\n",
    "Img1_L = tk.Label(master=win, text=\"图片1\",anchor='center')\n",
    "Img1_L.place(x=0, y=60, width=120, height=120)\n",
    "Img2_L = tk.Label(master=win, text=\"图片2\",anchor=\"center\")\n",
    "Img2_L.place(x=0,y=260,width=120,height=120)\n",
    "Img_output_L =tk.Label(master=win, text=\"输出图片\",anchor=\"center\")\n",
    "Img_output_L.place(x=470, y=160, width=120, height=120)\n",
    "Address_1 = tk.Label(master=win,text=\"图片1地址\",anchor='center', font=(\"楷体\",12))\n",
    "Address_1.place(x=190, y=90, width=80, height=30)\n",
    "Address_2 = tk.Label(master=win, text=\"图片2地址\",anchor='center', font=(\"楷体\",12))\n",
    "Address_2.place(x=190, y=290, width=80, height=30)\n",
    "\n",
    "# Entrys\n",
    "Txt1 = tk.Entry(master=win)\n",
    "Txt1.place(x=140, y=60, width=180, height=30)\n",
    "Txt2 = tk.Entry(master=win)\n",
    "Txt2.place(x=140, y=260, width=180, height=30)\n",
    "\n",
    "# Buttons\n",
    "Cmd1 = tk.Button(master=win, text=\"导入上层掩体图\", font=(\"楷体\",10), command=lambda :selectfile(Txt1, Img1_L))\n",
    "Cmd1.place(x=180, y=130, width=100, height=40)\n",
    "Cmd2 = tk.Button(master=win, text=\"导入下层真实图\", font=(\"楷体\",10), command=lambda : selectfile(Txt2, Img2_L))\n",
    "Cmd2.place(x=180, y=330, width=100, height=40)\n",
    "Cmd3 = tk.Button(master=win, text=\"生成并保存图片\", font=(\"楷体\",10), command=lambda : generate())\n",
    "Cmd3.place(x=340, y=190, width=120, height=40)\n",
    "\n",
    "win.mainloop()"
   ]
  }
 ],
 "metadata": {
  "kernelspec": {
   "display_name": "Python 3 (ipykernel)",
   "language": "python",
   "name": "python3"
  },
  "language_info": {
   "codemirror_mode": {
    "name": "ipython",
    "version": 3
   },
   "file_extension": ".py",
   "mimetype": "text/x-python",
   "name": "python",
   "nbconvert_exporter": "python",
   "pygments_lexer": "ipython3",
   "version": "3.10.7"
  }
 },
 "nbformat": 4,
 "nbformat_minor": 5
}
