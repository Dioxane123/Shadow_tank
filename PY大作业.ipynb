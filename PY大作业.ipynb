{
 "cells": [
  {
   "attachments": {},
   "cell_type": "markdown",
   "id": "51b87047",
   "metadata": {},
   "source": [
    "##                                 有关幻影坦克技术的讲解\n",
    "啥是幻影坦克? 幻影坦克就是, 一张黑白图片, 在黑色背景下和白色背景下能够显示出不同的图像.\n",
    "\n",
    "它的原理就是控制像素的颜色和Alpha通道(不透明度), 来使显示的图像在不同背景下显示不同的颜色.\n",
    "\n",
    "最基本的, 就是, 一张半透明的黑色薄膜, 如果在黑色的纸上, 你什么也看不出来, 但如果在白色纸上, 你可以看见, 它是灰色."
   ]
  },
  {
   "attachments": {},
   "cell_type": "markdown",
   "id": "6269f2e4",
   "metadata": {},
   "source": [
    "先统一将Alpha值和像素的亮度统一至 0 - 1"
   ]
  },
  {
   "attachments": {},
   "cell_type": "markdown",
   "id": "753d4924",
   "metadata": {},
   "source": [
    "###                                         基本原理\n",
    "设: 这个图像的背景亮度为 bc, 这个像素的亮度为 pc, 不透明度为 pa, 则最终显示的颜色 oc 就是:\n",
    "                           oc = pc * pa + bc * (1 - pa)"
   ]
  },
  {
   "attachments": {},
   "cell_type": "markdown",
   "id": "2d8305eb",
   "metadata": {},
   "source": [
    "理解起来也简单, 还拿刚刚的例子来讲, 例如一个纯黑的半透明薄膜, 那他肯定:\n",
    "\n",
    "1.只有一半的黑色能显示出来, 即： pc * pa\n",
    "\n",
    "2.而背景色, 也有一半的颜色能够透过来. 即:   bc * (1 - pa)\n",
    "\n",
    "3.总的颜色加起来, 也就是： pc * pa + bc * (1 - pa)"
   ]
  },
  {
   "attachments": {},
   "cell_type": "markdown",
   "id": "efbd37cf",
   "metadata": {},
   "source": [
    "###                                         幻影坦克\n",
    "当一个像素为白色背景时, 能够显示出一个特定的颜色 x, 当黑色背景时, 显示出 y, 故可得出一个公式：\n",
    "\n",
    "  设颜色 x 的亮度为 xc, 颜色 y 的亮度为 yc, 这个像素的亮度为 zc, 不透明度为 za, 则满足:\n",
    " \n",
    "$$\n",
    "\\begin{cases}\n",
    "& \\text{xc = za × zc + (1 − za)}\\\\\n",
    "& \\text{yc = za × zc}\n",
    "\\end{cases}\n",
    "$$"
   ]
  },
  {
   "attachments": {},
   "cell_type": "markdown",
   "id": "5deb221e",
   "metadata": {},
   "source": [
    "稍微处理一下，则可以得到以下的公式：\n",
    "\n",
    "$$\n",
    "\\begin{cases}\n",
    "& \\text{xc = yc + 1 × ( 1 − za )}\\\\\n",
    "& \\text{yc = xc − 1 × ( 1 − za)}\\\\\n",
    "& \\text{za = − [( xc − yc ) ÷ 1 ] + 1}\n",
    "\\end{cases}\n",
    "$$\n",
    "\n",
    "$$\n",
    "\\begin{cases}\n",
    "& \\text{xc = yc + 1 − za}\\\\\n",
    "& \\text{yc = xc + za − 1}\\\\\n",
    "& \\text{za = yc − xc + 1}\n",
    "\\end{cases}\n",
    "$$\n",
    " \n",
    "\n"
   ]
  },
  {
   "attachments": {},
   "cell_type": "markdown",
   "id": "8e1da571",
   "metadata": {},
   "source": [
    "由于 xc, yc, zc, za 都是小于等于1, 大于等于0的值, 所以:\n",
    "\n",
    "$$\n",
    "\\begin{cases}\n",
    "& \\text{xc = za × zc + (1 − za)}\\\\\n",
    "& \\text{yc = za × zc}\n",
    "\\end{cases}\n",
    "$$"
   ]
  },
  {
   "attachments": {},
   "cell_type": "markdown",
   "id": "5620191f",
   "metadata": {},
   "source": [
    "所以我们最终的算式为：\n",
    "\n",
    "$$\n",
    "\\begin{cases}\n",
    "& \\text{xc = za × zc + (1 − za)}\\\\\n",
    "& \\text{yc = za × zc}\n",
    "\\end{cases}\n",
    "$$"
   ]
  },
  {
   "attachments": {},
   "cell_type": "markdown",
   "id": "18c091a6",
   "metadata": {},
   "source": [
    "由于ARGB的通道是0 - 255 ，所以我们需要将以进行转化：\n",
    "\n",
    "$$\n",
    "\\begin{cases}\n",
    "& \\text{xc = za × zc + (1 − za)}\\\\\n",
    "& \\text{yc = za × zc}\n",
    "\\end{cases}\n",
    "$$"
   ]
  },
  {
   "attachments": {},
   "cell_type": "markdown",
   "id": "919ce31e",
   "metadata": {},
   "source": [
    "而经过刚才的推导，我们真正需要处理的只有：\n",
    "\n",
    "$$ xc ≥ yc $$"
   ]
  },
  {
   "attachments": {},
   "cell_type": "markdown",
   "id": "5c60ee3e",
   "metadata": {},
   "source": [
    "## 代码实现\n",
    "\n",
    "我们采用opencv库来对图像进行处理\n",
    "\n",
    "首先我们可以定义一个函数对 xc ，yc 进行处理，使 xc ≥ yc ："
   ]
  },
  {
   "attachments": {},
   "cell_type": "markdown",
   "id": "f7cef45f",
   "metadata": {},
   "source": [
    "### 定义函数使 xc ≥ yc "
   ]
  },
  {
   "cell_type": "code",
   "execution_count": 6,
   "id": "fc2371b3",
   "metadata": {},
   "outputs": [],
   "source": [
    "import numpy as np"
   ]
  },
  {
   "cell_type": "code",
   "execution_count": 7,
   "id": "46712b11",
   "metadata": {},
   "outputs": [],
   "source": [
    "def xc_max_than_yc(xc, yc, color_ratio=0.5):\n",
    "    \n",
    "    threshold = 255 * color_ratio\n",
    "    xc = (xc / 255) * (255 - threshold) + threshold\n",
    "    yc = (yc / 255) * threshold\n",
    "    return xc, yc "
   ]
  },
  {
   "cell_type": "code",
   "execution_count": 8,
   "id": "9d030b57",
   "metadata": {},
   "outputs": [
    {
     "data": {
      "text/plain": [
       "(array([[180, 155, 128, 199, 168],\n",
       "        [ 20,  52,   5, 202, 145],\n",
       "        [183, 174, 101,  58, 242],\n",
       "        [ 97, 163, 229, 146,  40],\n",
       "        [100,  46, 178, 187,  91]]),\n",
       " array([[188,  96, 112, 109,  69],\n",
       "        [ 10, 164,  29, 212,  70],\n",
       "        [116, 144, 167, 188,  53],\n",
       "        [101, 177, 153, 245,  42],\n",
       "        [108,  80,  16, 167,   1]]),\n",
       " array([[217.5, 205. , 191.5, 227. , 211.5],\n",
       "        [137.5, 153.5, 130. , 228.5, 200. ],\n",
       "        [219. , 214.5, 178. , 156.5, 248.5],\n",
       "        [176. , 209. , 242. , 200.5, 147.5],\n",
       "        [177.5, 150.5, 216.5, 221. , 173. ]]),\n",
       " array([[ 94. ,  48. ,  56. ,  54.5,  34.5],\n",
       "        [  5. ,  82. ,  14.5, 106. ,  35. ],\n",
       "        [ 58. ,  72. ,  83.5,  94. ,  26.5],\n",
       "        [ 50.5,  88.5,  76.5, 122.5,  21. ],\n",
       "        [ 54. ,  40. ,   8. ,  83.5,   0.5]]))"
      ]
     },
     "execution_count": 8,
     "metadata": {},
     "output_type": "execute_result"
    }
   ],
   "source": [
    "xc = np.random.randint(255,size = (5,5))\n",
    "yc = np.random.randint(255,size = (5,5))\n",
    "xc_,yc_ = xc_max_than_yc(xc,yc)\n",
    "xc,yc,xc_,yc_"
   ]
  },
  {
   "attachments": {},
   "cell_type": "markdown",
   "id": "408d40c0",
   "metadata": {},
   "source": [
    "上述函数对xc,yc进行处理，color_ratio参数用于调整xc，yc的颜色占比\n",
    "\n",
    "其中xc，yc输入的都是图像的像素矩阵"
   ]
  },
  {
   "attachments": {},
   "cell_type": "markdown",
   "id": "b9652fc1",
   "metadata": {},
   "source": [
    "### 效果图生成函数"
   ]
  },
  {
   "cell_type": "code",
   "execution_count": 28,
   "id": "6563bc48",
   "metadata": {},
   "outputs": [],
   "source": [
    "import cv2\n",
    "import matplotlib.pyplot as plt\n",
    "%matplotlib inline\n",
    "def create_tank(white, black):\n",
    "    # white表示白色背景时显示的图片\n",
    "    # black表示黑色背景时显示的图片\n",
    "    # 接下来对 透明度（za） 和 亮度（zc）进行处理\n",
    "    za = black - white + 255\n",
    "    zc = black.copy()\n",
    "    idx = black != 0\n",
    "    zc[idx] = black[idx] * 255 / za[idx]\n",
    "    img = cv2.merge((zc, zc, zc, za))\n",
    "    return img\n"
   ]
  },
  {
   "cell_type": "code",
   "execution_count": 29,
   "id": "8723e3ac",
   "metadata": {},
   "outputs": [
    {
     "data": {
      "text/plain": [
       "array([[[182.28136882, 182.28136882, 182.28136882, 131.5       ],\n",
       "        [124.89795918, 124.89795918, 124.89795918,  98.        ],\n",
       "        [119.49790795, 119.49790795, 119.49790795, 119.5       ],\n",
       "        [168.45454545, 168.45454545, 168.45454545,  82.5       ],\n",
       "        [112.78846154, 112.78846154, 112.78846154,  78.        ]],\n",
       "\n",
       "       [[ 10.40816327,  10.40816327,  10.40816327, 122.5       ],\n",
       "        [113.95095368, 113.95095368, 113.95095368, 183.5       ],\n",
       "        [ 26.50537634,  26.50537634,  26.50537634, 139.5       ],\n",
       "        [204.        , 204.        , 204.        , 132.5       ],\n",
       "        [ 99.16666667,  99.16666667,  99.16666667,  90.        ]],\n",
       "\n",
       "       [[157.34042553, 157.34042553, 157.34042553,  94.        ],\n",
       "        [163.2       , 163.2       , 163.2       , 112.5       ],\n",
       "        [132.6635514 , 132.6635514 , 132.6635514 , 160.5       ],\n",
       "        [124.51948052, 124.51948052, 124.51948052, 192.5       ],\n",
       "        [204.77272727, 204.77272727, 204.77272727,  33.        ]],\n",
       "\n",
       "       [[ 99.44015444,  99.44015444,  99.44015444, 129.5       ],\n",
       "        [167.78810409, 167.78810409, 167.78810409, 134.5       ],\n",
       "        [217.96089385, 217.96089385, 217.96089385,  89.5       ],\n",
       "        [176.48305085, 176.48305085, 176.48305085, 177.        ],\n",
       "        [ 41.67315175,  41.67315175,  41.67315175, 128.5       ]],\n",
       "\n",
       "       [[104.7148289 , 104.7148289 , 104.7148289 , 131.5       ],\n",
       "        [ 70.58823529,  70.58823529,  70.58823529, 144.5       ],\n",
       "        [ 43.87096774,  43.87096774,  43.87096774,  46.5       ],\n",
       "        [181.21276596, 181.21276596, 181.21276596, 117.5       ],\n",
       "        [  1.54545455,   1.54545455,   1.54545455,  82.5       ]]])"
      ]
     },
     "execution_count": 29,
     "metadata": {},
     "output_type": "execute_result"
    }
   ],
   "source": [
    "img = create_tank(xc_,yc_)\n",
    "img"
   ]
  },
  {
   "attachments": {},
   "cell_type": "markdown",
   "id": "a626efe7",
   "metadata": {},
   "source": [
    "### 接下来则是以具体的图片举例\n"
   ]
  },
  {
   "cell_type": "code",
   "execution_count": 37,
   "id": "c16adc82",
   "metadata": {},
   "outputs": [],
   "source": [
    "img_false = cv2.imread('img1.jpg')\n",
    "img_true = cv2.imread('img2.jpg')\n",
    "x,y,z = img_true.shape\n",
    "img_false = cv2.resize(img_false, (y, x))\n",
    "xc, yc = xc_max_than_yc(img_false, img_true)\n",
    "Img_output = create_tank(xc, yc)\n",
    "cv2.imwrite(\"Img_output.png\", Img_output)"
   ]
  },
  {
   "cell_type": "code",
   "execution_count": 39,
   "id": "ea894d66",
   "metadata": {},
   "outputs": [
    {
     "ename": "error",
     "evalue": "OpenCV(4.7.0) d:\\a\\opencv-python\\opencv-python\\opencv\\modules\\imgproc\\src\\color.simd_helpers.hpp:94: error: (-2:Unspecified error) in function '__cdecl cv::impl::`anonymous-namespace'::CvtHelper<struct cv::impl::`anonymous namespace'::Set<3,4,-1>,struct cv::impl::A0x981fb336::Set<3,4,-1>,struct cv::impl::A0x981fb336::Set<0,2,5>,2>::CvtHelper(const class cv::_InputArray &,const class cv::_OutputArray &,int)'\n> Unsupported depth of input image:\n>     'VDepth::contains(depth)'\n> where\n>     'depth' is 6 (CV_64F)\n",
     "output_type": "error",
     "traceback": [
      "\u001b[1;31m---------------------------------------------------------------------------\u001b[0m",
      "\u001b[1;31merror\u001b[0m                                     Traceback (most recent call last)",
      "Cell \u001b[1;32mIn[39], line 1\u001b[0m\n\u001b[1;32m----> 1\u001b[0m img \u001b[38;5;241m=\u001b[39m \u001b[43mcv2\u001b[49m\u001b[38;5;241;43m.\u001b[39;49m\u001b[43mcvtColor\u001b[49m\u001b[43m(\u001b[49m\u001b[43mimg\u001b[49m\u001b[43m,\u001b[49m\u001b[43m \u001b[49m\u001b[43mcv2\u001b[49m\u001b[38;5;241;43m.\u001b[39;49m\u001b[43mCOLOR_BGR2RGB\u001b[49m\u001b[43m)\u001b[49m\n\u001b[0;32m      2\u001b[0m plt\u001b[38;5;241m.\u001b[39mimshow(img)\n\u001b[0;32m      3\u001b[0m plt\u001b[38;5;241m.\u001b[39mshow()\n",
      "\u001b[1;31merror\u001b[0m: OpenCV(4.7.0) d:\\a\\opencv-python\\opencv-python\\opencv\\modules\\imgproc\\src\\color.simd_helpers.hpp:94: error: (-2:Unspecified error) in function '__cdecl cv::impl::`anonymous-namespace'::CvtHelper<struct cv::impl::`anonymous namespace'::Set<3,4,-1>,struct cv::impl::A0x981fb336::Set<3,4,-1>,struct cv::impl::A0x981fb336::Set<0,2,5>,2>::CvtHelper(const class cv::_InputArray &,const class cv::_OutputArray &,int)'\n> Unsupported depth of input image:\n>     'VDepth::contains(depth)'\n> where\n>     'depth' is 6 (CV_64F)\n"
     ]
    }
   ],
   "source": [
    "img = cv2.imread('Img_output')\n",
    "img = cv2.cvtColor(img, cv2.COLOR_BGR2RGB)\n",
    "\n",
    "plt.imshow(img)\n",
    "plt.show()"
   ]
  },
  {
   "cell_type": "code",
   "execution_count": null,
   "id": "189efbdb",
   "metadata": {},
   "outputs": [],
   "source": []
  }
 ],
 "metadata": {
  "kernelspec": {
   "display_name": "Python 3 (ipykernel)",
   "language": "python",
   "name": "python3"
  },
  "language_info": {
   "codemirror_mode": {
    "name": "ipython",
    "version": 3
   },
   "file_extension": ".py",
   "mimetype": "text/x-python",
   "name": "python",
   "nbconvert_exporter": "python",
   "pygments_lexer": "ipython3",
   "version": "3.10.7"
  }
 },
 "nbformat": 4,
 "nbformat_minor": 5
}
